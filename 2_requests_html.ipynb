{
 "cells": [
  {
   "cell_type": "code",
   "execution_count": 7,
   "id": "3003657b",
   "metadata": {},
   "outputs": [
    {
     "name": "stdout",
     "output_type": "stream",
     "text": [
      "Requirement already satisfied: lxml[html_clean] in c:\\users\\zainab\\anaconda3\\lib\\site-packages (5.2.1)\n",
      "Collecting lxml_html_clean (from lxml[html_clean])\n",
      "  Downloading lxml_html_clean-0.4.2-py3-none-any.whl.metadata (2.4 kB)\n",
      "Downloading lxml_html_clean-0.4.2-py3-none-any.whl (14 kB)\n",
      "Installing collected packages: lxml_html_clean\n",
      "Successfully installed lxml_html_clean-0.4.2\n"
     ]
    }
   ],
   "source": [
    "# Install lxml with the html_clean extra\n",
    "!pip install lxml[html_clean]"
   ]
  },
  {
   "cell_type": "code",
   "execution_count": 11,
   "id": "f22f905c",
   "metadata": {},
   "outputs": [
    {
     "name": "stdout",
     "output_type": "stream",
     "text": [
      "<Element 'li' id='about' class=('tier-1', 'element-1') aria-haspopup='true'>\n",
      "About\n",
      "Applications\n",
      "Quotes\n",
      "Getting Started\n",
      "Help\n",
      "Python Brochure\n"
     ]
    }
   ],
   "source": [
    "from requests_html import HTMLSession\n",
    "session = HTMLSession()\n",
    "\n",
    "r = session.get('https://python.org/')\n",
    "# print(r.text)\n",
    "# print(r.html.links)\n",
    "\n",
    "about = r.html.find(\"#about\", first=True)\n",
    "print(about)\n",
    "print(about.text)"
   ]
  },
  {
   "cell_type": "code",
   "execution_count": 20,
   "id": "cf37f404",
   "metadata": {},
   "outputs": [
    {
     "name": "stdout",
     "output_type": "stream",
     "text": [
      "[<Element 'li' class=('tier-2', 'element-1') role='treeitem'>, <Element 'li' class=('tier-2', 'element-2') role='treeitem'>, <Element 'li' class=('tier-2', 'element-3') role='treeitem'>, <Element 'li' class=('tier-2', 'element-1') role='treeitem'>, <Element 'li' class=('tier-2', 'element-2') role='treeitem'>, <Element 'li' class=('tier-2', 'element-3') role='treeitem'>, <Element 'li' class=('tier-2', 'element-4') role='treeitem'>, <Element 'li' class=('tier-2', 'element-1') role='treeitem'>, <Element 'li' class=('tier-2', 'element-2') role='treeitem'>, <Element 'li' class=('tier-2', 'element-3') role='treeitem'>, <Element 'li' class=('tier-2', 'element-4') role='treeitem'>, <Element 'li' class=('tier-2', 'element-5') role='treeitem'>, <Element 'li' class=('tier-2', 'element-1') role='treeitem'>, <Element 'li' class=('tier-2', 'element-2') role='treeitem'>, <Element 'li' class=('tier-2', 'element-3') role='treeitem'>, <Element 'li' class=('tier-2', 'element-4') role='treeitem'>, <Element 'li' class=('tier-2', 'element-5') role='treeitem'>, <Element 'li' class=('tier-2', 'element-6') role='treeitem'>, <Element 'li' class=('tier-2', 'element-7') role='treeitem'>, <Element 'li' class=('tier-2', 'element-1') role='treeitem'>, <Element 'li' class=('tier-2', 'element-2') role='treeitem'>, <Element 'li' class=('tier-2', 'element-3') role='treeitem'>, <Element 'li' class=('tier-2', 'element-4') role='treeitem'>, <Element 'li' class=('tier-2', 'element-5') role='treeitem'>, <Element 'li' class=('tier-2', 'element-6') role='treeitem'>, <Element 'li' class=('tier-2', 'element-7') role='treeitem'>, <Element 'li' class=('tier-2', 'element-8') role='treeitem'>, <Element 'li' class=('tier-2', 'element-9') role='treeitem'>, <Element 'li' class=('tier-2', 'element-1') role='treeitem'>, <Element 'li' class=('tier-2', 'element-2') role='treeitem'>, <Element 'li' class=('tier-2', 'element-3') role='treeitem'>, <Element 'li' class=('tier-2', 'element-4') role='treeitem'>, <Element 'li' class=('tier-2', 'element-5') role='treeitem'>, <Element 'li' class=('tier-2', 'element-6') role='treeitem'>, <Element 'li' class=('tier-2', 'element-7') role='treeitem'>, <Element 'li' class=('tier-2', 'element-8') role='treeitem'>, <Element 'li' class=('tier-2', 'element-9') role='treeitem'>, <Element 'li' class=('tier-2', 'element-10') role='treeitem'>, <Element 'li' class=('tier-2', 'element-11') role='treeitem'>, <Element 'li' class=('tier-2', 'element-12') role='treeitem'>, <Element 'li' class=('tier-2', 'element-13') role='treeitem'>, <Element 'li' class=('tier-2', 'element-1') role='treeitem'>, <Element 'li' class=('tier-2', 'element-2') role='treeitem'>, <Element 'li' class=('tier-2', 'element-3') role='treeitem'>, <Element 'li' class=('tier-2', 'element-4') role='treeitem'>, <Element 'li' class=('tier-2', 'element-5') role='treeitem'>, <Element 'li' class=('tier-2', 'element-6') role='treeitem'>, <Element 'li' class=('tier-2', 'element-7') role='treeitem'>, <Element 'li' class=('tier-2', 'element-1') role='treeitem'>, <Element 'li' class=('tier-2', 'element-2') role='treeitem'>, <Element 'li' class=('tier-2', 'element-3') role='treeitem'>, <Element 'li' class=('tier-2', 'element-4') role='treeitem'>, <Element 'li' class=('tier-2', 'element-5') role='treeitem'>, <Element 'li' class=('tier-2', 'element-1') role='treeitem'>, <Element 'li' class=('tier-2', 'element-2') role='treeitem'>, <Element 'li' class=('tier-2', 'element-3') role='treeitem'>, <Element 'li' class=('tier-2', 'element-4') role='treeitem'>, <Element 'li' class=('tier-2', 'element-5') role='treeitem'>, <Element 'li' class=('tier-2', 'element-1') role='treeitem'>, <Element 'li' class=('tier-2', 'element-2') role='treeitem'>, <Element 'li' class=('tier-2', 'element-3') role='treeitem'>, <Element 'li' class=('tier-2', 'element-4') role='treeitem'>, <Element 'li' class=('tier-2', 'element-5') role='treeitem'>, <Element 'li' class=('tier-2', 'element-1') role='treeitem'>, <Element 'li' class=('tier-2', 'element-2') role='treeitem'>, <Element 'li' class=('tier-2', 'element-3') role='treeitem'>, <Element 'li' class=('tier-2', 'element-4') role='treeitem'>, <Element 'li' class=('tier-2', 'element-5') role='treeitem'>, <Element 'li' class=('tier-2', 'element-6') role='treeitem'>, <Element 'li' class=('tier-2', 'element-7') role='treeitem'>, <Element 'li' class=('tier-2', 'element-1') role='treeitem'>, <Element 'li' class=('tier-2', 'element-2') role='treeitem'>, <Element 'li' class=('tier-2', 'element-3') role='treeitem'>, <Element 'li' class=('tier-2', 'element-4') role='treeitem'>, <Element 'li' class=('tier-2', 'element-5') role='treeitem'>, <Element 'li' class=('tier-2', 'element-6') role='treeitem'>, <Element 'li' class=('tier-2', 'element-7') role='treeitem'>, <Element 'li' class=('tier-2', 'element-8') role='treeitem'>, <Element 'li' class=('tier-2', 'element-9') role='treeitem'>, <Element 'li' class=('tier-2', 'element-1') role='treeitem'>, <Element 'li' class=('tier-2', 'element-2') role='treeitem'>, <Element 'li' class=('tier-2', 'element-3') role='treeitem'>, <Element 'li' class=('tier-2', 'element-4') role='treeitem'>, <Element 'li' class=('tier-2', 'element-5') role='treeitem'>, <Element 'li' class=('tier-2', 'element-6') role='treeitem'>, <Element 'li' class=('tier-2', 'element-7') role='treeitem'>, <Element 'li' class=('tier-2', 'element-8') role='treeitem'>, <Element 'li' class=('tier-2', 'element-9') role='treeitem'>, <Element 'li' class=('tier-2', 'element-10') role='treeitem'>, <Element 'li' class=('tier-2', 'element-11') role='treeitem'>, <Element 'li' class=('tier-2', 'element-12') role='treeitem'>, <Element 'li' class=('tier-2', 'element-13') role='treeitem'>, <Element 'li' class=('tier-2', 'element-1') role='treeitem'>, <Element 'li' class=('tier-2', 'element-2') role='treeitem'>, <Element 'li' class=('tier-2', 'element-3') role='treeitem'>, <Element 'li' class=('tier-2', 'element-4') role='treeitem'>, <Element 'li' class=('tier-2', 'element-5') role='treeitem'>, <Element 'li' class=('tier-2', 'element-6') role='treeitem'>, <Element 'li' class=('tier-2', 'element-7') role='treeitem'>, <Element 'li' class=('tier-2', 'element-1') role='treeitem'>, <Element 'li' class=('tier-2', 'element-2') role='treeitem'>, <Element 'li' class=('tier-2', 'element-3') role='treeitem'>, <Element 'li' class=('tier-2', 'element-4') role='treeitem'>, <Element 'li' class=('tier-2', 'element-5') role='treeitem'>, <Element 'li' class=('tier-2', 'element-1') role='treeitem'>, <Element 'li' class=('tier-2', 'element-2') role='treeitem'>, <Element 'li' class=('tier-2', 'element-3') role='treeitem'>, <Element 'li' class=('tier-2', 'element-4') role='treeitem'>, <Element 'li' class=('tier-2', 'element-5') role='treeitem'>, <Element 'li' class=('tier-2', 'element-1') role='treeitem'>, <Element 'li' class=('tier-2', 'element-2') role='treeitem'>, <Element 'li' class=('tier-2', 'element-3') role='treeitem'>, <Element 'li' class=('tier-2', 'element-4') role='treeitem'>, <Element 'li' class=('tier-2', 'element-5') role='treeitem'>]\n",
      "Smaller\n"
     ]
    }
   ],
   "source": [
    "about2 = r.html.find('.tier-2')\n",
    "print(about2)\n",
    "print(about2[0].text)"
   ]
  }
 ],
 "metadata": {
  "kernelspec": {
   "display_name": "base",
   "language": "python",
   "name": "python3"
  },
  "language_info": {
   "codemirror_mode": {
    "name": "ipython",
    "version": 3
   },
   "file_extension": ".py",
   "mimetype": "text/x-python",
   "name": "python",
   "nbconvert_exporter": "python",
   "pygments_lexer": "ipython3",
   "version": "3.12.7"
  }
 },
 "nbformat": 4,
 "nbformat_minor": 5
}
