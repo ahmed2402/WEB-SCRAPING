{
 "cells": [
  {
   "cell_type": "markdown",
   "id": "8c274ea8",
   "metadata": {},
   "source": [
    "## BS4"
   ]
  },
  {
   "cell_type": "code",
   "execution_count": 5,
   "id": "3bd7b913",
   "metadata": {},
   "outputs": [
    {
     "name": "stdout",
     "output_type": "stream",
     "text": [
      "<html>\n",
      " <head>\n",
      "  <title>\n",
      "   The Dormouse's story\n",
      "  </title>\n",
      " </head>\n",
      " <body>\n",
      "  <p class=\"title\">\n",
      "   <b>\n",
      "    The Dormouse's story\n",
      "   </b>\n",
      "  </p>\n",
      "  <p class=\"story\">\n",
      "   Once upon a time there were three little sisters; and their names were\n",
      "   <a class=\"sister\" href=\"http://example.com/elsie\" id=\"link1\">\n",
      "    Elsie\n",
      "   </a>\n",
      "   ,\n",
      "   <a class=\"sister\" href=\"http://example.com/lacie\" id=\"link2\">\n",
      "    Lacie\n",
      "   </a>\n",
      "   and\n",
      "   <a class=\"sister\" href=\"http://example.com/tillie\" id=\"link3\">\n",
      "    Tillie\n",
      "   </a>\n",
      "   ; and they lived at the bottom of a well.\n",
      "  </p>\n",
      "  <p class=\"story\">\n",
      "   ...\n",
      "  </p>\n",
      " </body>\n",
      "</html>\n",
      "Here are some simple ways to navigate that data structure:\n",
      "\n",
      "soup.title\n",
      "<title>\n",
      " The Dormouse's story\n",
      "</title>\n",
      "soup.title.name\n",
      "u'title'\n",
      "\n",
      "soup.title.string\n",
      "u'The Dormouse's story'\n",
      "\n",
      "soup.title.parent.name\n",
      "u'head'\n",
      "\n",
      "soup.p\n",
      "<p class=\"title\">\n",
      " <b>\n",
      "  The Dormouse's story\n",
      " </b>\n",
      "</p>\n",
      "soup.p['class']\n",
      "u'title'\n",
      "\n",
      "soup.a\n",
      "<a class=\"sister\" href=\"http://example.com/elsie\" id=\"link1\">\n",
      " Elsie\n",
      "</a>\n",
      "soup.find_all('a')\n",
      "[\n",
      "<a class=\"sister\" href=\"http://example.com/elsie\" id=\"link1\">\n",
      " Elsie\n",
      "</a>\n",
      ",\n",
      "<a class=\"sister\" href=\"http://example.com/lacie\" id=\"link2\">\n",
      " Lacie\n",
      "</a>\n",
      ",\n",
      "<a class=\"sister\" href=\"http://example.com/tillie\" id=\"link3\">\n",
      " Tillie\n",
      "</a>\n",
      "]\n",
      "\n",
      "soup.find(id=\"link3\")\n",
      "<a class=\"sister\" href=\"http://example.com/tillie\" id=\"link3\">\n",
      " Tillie\n",
      "</a>\n",
      "\n"
     ]
    }
   ],
   "source": [
    "from bs4 import BeautifulSoup\n",
    "\n",
    "with open(\"file.html\", \"r\") as f:\n",
    "    html =f.read()\n",
    "\n",
    "soup = BeautifulSoup(html, 'html.parser')\n",
    "print(soup.prettify())"
   ]
  },
  {
   "cell_type": "code",
   "execution_count": 23,
   "id": "a27fcd0f",
   "metadata": {},
   "outputs": [
    {
     "name": "stdout",
     "output_type": "stream",
     "text": [
      "title: <title>\n",
      "\t\tThe Dormouse's story\n",
      "\t</title> \n",
      "\n",
      "text : \n",
      "\t\tThe Dormouse's story\n",
      "\t \n",
      "\n",
      "parent name :  head \n",
      "\n",
      "1st para tag :  <p class=\"title\">\n",
      "<b>\n",
      "\t\t\tThe Dormouse's story\n",
      "\t\t</b>\n",
      "</p> \n",
      "\n",
      "1st class :  ['title'] \n",
      "\n"
     ]
    }
   ],
   "source": [
    "print(\"title:\",soup.title,'\\n')\n",
    "print(\"text :\" ,soup.title.text,'\\n')\n",
    "\n",
    "print(\"parent name : \",soup.title.parent.name,'\\n')\n",
    "print(\"1st para tag : \",soup.p,\"\\n\")\n",
    "print(\"1st class : \",soup.p['class'],\"\\n\")"
   ]
  },
  {
   "cell_type": "code",
   "execution_count": 26,
   "id": "55447033",
   "metadata": {},
   "outputs": [
    {
     "data": {
      "text/plain": [
       "<a class=\"sister\" href=\"http://example.com/tillie\" id=\"link3\">\n",
       "\t\t\tTillie\n",
       "\t\t</a>"
      ]
     },
     "execution_count": 26,
     "metadata": {},
     "output_type": "execute_result"
    }
   ],
   "source": [
    "soup.find_all('a') #returns all nchor tags\n",
    "soup.find(id=\"link3\") # returns a particular anchor tag with unique id"
   ]
  },
  {
   "cell_type": "code",
   "execution_count": 27,
   "id": "6b2cfc38",
   "metadata": {},
   "outputs": [
    {
     "name": "stdout",
     "output_type": "stream",
     "text": [
      "http://example.com/elsie\n",
      "http://example.com/lacie\n",
      "http://example.com/tillie\n",
      "http://example.com/elsie\n",
      "http://example.com/elsie\n",
      "http://example.com/lacie\n",
      "http://example.com/tillie\n",
      "http://example.com/tillie\n"
     ]
    }
   ],
   "source": [
    "# extracting all urls from page\n",
    "for link in soup.find_all('a'):\n",
    "    print(link.get('href'))"
   ]
  }
 ],
 "metadata": {
  "kernelspec": {
   "display_name": "base",
   "language": "python",
   "name": "python3"
  },
  "language_info": {
   "codemirror_mode": {
    "name": "ipython",
    "version": 3
   },
   "file_extension": ".py",
   "mimetype": "text/x-python",
   "name": "python",
   "nbconvert_exporter": "python",
   "pygments_lexer": "ipython3",
   "version": "3.12.7"
  }
 },
 "nbformat": 4,
 "nbformat_minor": 5
}
