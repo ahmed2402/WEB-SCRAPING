{
 "cells": [
  {
   "cell_type": "markdown",
   "id": "aaa9ebb6",
   "metadata": {},
   "source": [
    "### FIRST STEP IS TO GET THE HTML OF THE WEB YOU WANT TO SCRAP"
   ]
  },
  {
   "cell_type": "code",
   "execution_count": 20,
   "id": "ea9c42ed",
   "metadata": {},
   "outputs": [
    {
     "name": "stdout",
     "output_type": "stream",
     "text": [
      "Collecting fake-useragent\n",
      "  Using cached fake_useragent-2.2.0-py3-none-any.whl.metadata (17 kB)\n",
      "Using cached fake_useragent-2.2.0-py3-none-any.whl (161 kB)\n",
      "Installing collected packages: fake-useragent\n",
      "Successfully installed fake-useragent-2.2.0\n"
     ]
    }
   ],
   "source": [
    "!pip install fake-useragent"
   ]
  },
  {
   "cell_type": "code",
   "execution_count": 25,
   "id": "a48ebfdd",
   "metadata": {},
   "outputs": [],
   "source": [
    "import requests\n",
    "import time\n",
    "from fake_useragent import UserAgent\n",
    "\n",
    "url =\"https://webscraper.io/test-sites\"\n",
    "\n",
    "response = requests.get(url)\n",
    "# print(response.text)\n",
    "\n",
    "with open(\"file.html\", \"w\") as f:\n",
    "    f.write(response.text)\n"
   ]
  }
 ],
 "metadata": {
  "kernelspec": {
   "display_name": "base",
   "language": "python",
   "name": "python3"
  },
  "language_info": {
   "codemirror_mode": {
    "name": "ipython",
    "version": 3
   },
   "file_extension": ".py",
   "mimetype": "text/x-python",
   "name": "python",
   "nbconvert_exporter": "python",
   "pygments_lexer": "ipython3",
   "version": "3.12.7"
  }
 },
 "nbformat": 4,
 "nbformat_minor": 5
}
